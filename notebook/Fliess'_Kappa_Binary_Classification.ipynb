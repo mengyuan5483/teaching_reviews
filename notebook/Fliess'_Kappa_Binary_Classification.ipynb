{
  "nbformat": 4,
  "nbformat_minor": 0,
  "metadata": {
    "colab": {
      "provenance": [],
      "gpuType": "T4"
    },
    "kernelspec": {
      "name": "python3",
      "display_name": "Python 3"
    },
    "language_info": {
      "name": "python"
    },
    "accelerator": "GPU"
  },
  "cells": [
    {
      "cell_type": "code",
      "execution_count": 127,
      "metadata": {
        "colab": {
          "base_uri": "https://localhost:8080/"
        },
        "id": "vUsEkaC8oB7x",
        "outputId": "85a24d6a-3df5-4f88-ad1e-7808ddf72e03"
      },
      "outputs": [
        {
          "output_type": "stream",
          "name": "stdout",
          "text": [
            "fatal: destination path 'teaching_reviews' already exists and is not an empty directory.\n"
          ]
        }
      ],
      "source": [
        "!git clone https://github.com/abecode/teaching_reviews.git"
      ]
    },
    {
      "cell_type": "code",
      "source": [
        "!cp /content/teaching_reviews/data_prodigy/prodigy.sentence-level.20240701.db /content/\n",
        "!cp /content/teaching_reviews/data_prodigy/prodigy.sentence-level.20240605.db /content/"
      ],
      "metadata": {
        "id": "SyRz71vNorKf"
      },
      "execution_count": 128,
      "outputs": []
    },
    {
      "cell_type": "code",
      "source": [
        "!ls /content/"
      ],
      "metadata": {
        "colab": {
          "base_uri": "https://localhost:8080/"
        },
        "id": "5PrrJgjNq9g4",
        "outputId": "978d33c3-6157-4bb2-b6b8-c39be4b25dcb"
      },
      "execution_count": 129,
      "outputs": [
        {
          "output_type": "stream",
          "name": "stdout",
          "text": [
            "prodigy.sentence-level.20240605.db  sample_data\n",
            "prodigy.sentence-level.20240701.db  teaching_reviews\n"
          ]
        }
      ]
    },
    {
      "cell_type": "code",
      "source": [
        "import sqlite3\n",
        "\n",
        "db_path = '/content/prodigy.sentence-level.20240701.db'\n"
      ],
      "metadata": {
        "id": "5udvnU_xquq-"
      },
      "execution_count": 130,
      "outputs": []
    },
    {
      "cell_type": "code",
      "source": [
        "conn = sqlite3.connect(db_path)"
      ],
      "metadata": {
        "id": "04y2FL8yst-i"
      },
      "execution_count": 131,
      "outputs": []
    },
    {
      "cell_type": "code",
      "source": [
        "sakthi_annotations = conn.execute(\"\"\"select dataset.id, dataset.name, dataset.created, dataset.meta, dataset.session,\n",
        "                                        example.id, example.input_hash, example.task_hash, example.content\n",
        "                                 from dataset, example, link\n",
        "                                 where dataset.id = link.dataset_id\n",
        "                                   and link.example_id = example.id\n",
        "                                   and dataset.name = 'teaching_reviews_sentences-sakthi';\"\"\").fetchall()"
      ],
      "metadata": {
        "id": "M_X9jJmHoBVf"
      },
      "execution_count": 132,
      "outputs": []
    },
    {
      "cell_type": "code",
      "source": [
        "len(sakthi_annotations)"
      ],
      "metadata": {
        "colab": {
          "base_uri": "https://localhost:8080/"
        },
        "id": "YssPEVETkZJ3",
        "outputId": "4815920f-1c1b-473b-e8fd-952dc2174c42"
      },
      "execution_count": 133,
      "outputs": [
        {
          "output_type": "execute_result",
          "data": {
            "text/plain": [
              "725"
            ]
          },
          "metadata": {},
          "execution_count": 133
        }
      ]
    },
    {
      "cell_type": "code",
      "source": [
        "jenny_annotations = conn.execute(\"\"\"select dataset.id, dataset.name, dataset.created, dataset.meta, dataset.session,\n",
        "                                        example.id, example.input_hash, example.task_hash, example.content\n",
        "                                 from dataset, example, link\n",
        "                                 where dataset.id = link.dataset_id\n",
        "                                   and link.example_id = example.id\n",
        "                                   and dataset.name = 'teaching_reviews_sentences-jenny';\"\"\").fetchall()\n"
      ],
      "metadata": {
        "id": "nU3QeyTro78w"
      },
      "execution_count": 134,
      "outputs": []
    },
    {
      "cell_type": "code",
      "source": [
        "len(jenny_annotations)"
      ],
      "metadata": {
        "id": "_yMvOF2BpvI2",
        "outputId": "69e7d05e-c5ac-4c3f-d447-5397868a6483",
        "colab": {
          "base_uri": "https://localhost:8080/"
        }
      },
      "execution_count": 135,
      "outputs": [
        {
          "output_type": "execute_result",
          "data": {
            "text/plain": [
              "725"
            ]
          },
          "metadata": {},
          "execution_count": 135
        }
      ]
    },
    {
      "cell_type": "code",
      "source": [
        "abe_annotations = conn.execute(\"\"\"select dataset.id, dataset.name, dataset.created, dataset.meta, dataset.session,\n",
        "                                        example.id, example.input_hash, example.task_hash, example.content\n",
        "                                 from dataset, example, link\n",
        "                                 where dataset.id = link.dataset_id\n",
        "                                   and link.example_id = example.id\n",
        "                                   and dataset.name = 'teaching_reviews_sentences-abe';\"\"\").fetchall()\n"
      ],
      "metadata": {
        "id": "xcsG8kUW4sRd"
      },
      "execution_count": 136,
      "outputs": []
    },
    {
      "cell_type": "code",
      "source": [
        "len(abe_annotations)"
      ],
      "metadata": {
        "colab": {
          "base_uri": "https://localhost:8080/"
        },
        "id": "rk6lx8lp4weu",
        "outputId": "b07ce148-2888-42f9-c37f-19f1eb5c181a"
      },
      "execution_count": 137,
      "outputs": [
        {
          "output_type": "execute_result",
          "data": {
            "text/plain": [
              "725"
            ]
          },
          "metadata": {},
          "execution_count": 137
        }
      ]
    },
    {
      "cell_type": "code",
      "source": [
        "mengyuan_annotations = conn.execute(\"\"\"select dataset.id, dataset.name, dataset.created, dataset.meta, dataset.session,\n",
        "                                        example.id, example.input_hash, example.task_hash, example.content\n",
        "                                 from dataset, example, link\n",
        "                                 where dataset.id = link.dataset_id\n",
        "                                   and link.example_id = example.id\n",
        "                                   and dataset.name = 'teaching_reviews_sentences-mengyuan';\"\"\").fetchall()"
      ],
      "metadata": {
        "id": "14PUeMac40QI"
      },
      "execution_count": 138,
      "outputs": []
    },
    {
      "cell_type": "code",
      "source": [
        "len(mengyuan_annotations)"
      ],
      "metadata": {
        "colab": {
          "base_uri": "https://localhost:8080/"
        },
        "id": "dSDxU1WW4_G7",
        "outputId": "0376b67f-e113-48a1-dd79-3b1694b1930c"
      },
      "execution_count": 139,
      "outputs": [
        {
          "output_type": "execute_result",
          "data": {
            "text/plain": [
              "725"
            ]
          },
          "metadata": {},
          "execution_count": 139
        }
      ]
    },
    {
      "cell_type": "code",
      "source": [
        "input_hashes = [];\n",
        "task_hashes = [];\n",
        "for annotation in sakthi_annotations:\n",
        "  input_hashes.append(annotation[5])\n",
        "  task_hashes.append(annotation[6])\n",
        "for annotation in jenny_annotations:\n",
        "  input_hashes.append(annotation[5])\n",
        "  task_hashes.append(annotation[6])"
      ],
      "metadata": {
        "id": "nJ40dO98mEFr"
      },
      "execution_count": 140,
      "outputs": []
    },
    {
      "cell_type": "code",
      "source": [
        "print(len(input_hashes))\n",
        "print(len(task_hashes))\n",
        "print(len(set(input_hashes)))\n",
        "print(len(set(task_hashes)))"
      ],
      "metadata": {
        "id": "aZU6-VlSs9nU",
        "outputId": "800e61a0-9fd7-4b70-a5ed-685236f28ad2",
        "colab": {
          "base_uri": "https://localhost:8080/"
        }
      },
      "execution_count": 141,
      "outputs": [
        {
          "output_type": "stream",
          "name": "stdout",
          "text": [
            "1450\n",
            "1450\n",
            "1450\n",
            "725\n"
          ]
        }
      ]
    },
    {
      "cell_type": "code",
      "source": [
        "import pandas as pd\n",
        "import json\n",
        "import numpy as np"
      ],
      "metadata": {
        "id": "IsnLzrHTtGbu"
      },
      "execution_count": 142,
      "outputs": []
    },
    {
      "cell_type": "code",
      "source": [
        "sakthi_anno_df = pd.DataFrame({\"annotator\": [\"sakthi\" for x in sakthi_annotations],\n",
        "                           \"input_hash\": [x[5] for x in sakthi_annotations],\n",
        "                           \"task_hash\": [x[6] for x in sakthi_annotations],\n",
        "                           #\"content\": [x[8] for x in sakthi_annotations],\n",
        "                           \"text\": [json.loads(x[8])['text'] for x in sakthi_annotations],\n",
        "                           \"annotation\":  [json.loads(x[8])['accept'] for x in sakthi_annotations]})"
      ],
      "metadata": {
        "id": "woefTEB-x3nZ"
      },
      "execution_count": 143,
      "outputs": []
    },
    {
      "cell_type": "code",
      "source": [
        "jenny_anno_df = pd.DataFrame({\"annotator\": [\"jenny\" for x in jenny_annotations],\n",
        "                           \"input_hash\": [x[5] for x in jenny_annotations],\n",
        "                           \"task_hash\": [x[6] for x in jenny_annotations],\n",
        "                           #\"content\": [x[8] for x in jenny_annotations],\n",
        "                           \"text\": [json.loads(x[8])['text'] for x in jenny_annotations],\n",
        "                           \"annotation\":  [json.loads(x[8])['accept'] for x in jenny_annotations]})"
      ],
      "metadata": {
        "id": "j_BiRsf2zfZF"
      },
      "execution_count": 144,
      "outputs": []
    },
    {
      "cell_type": "code",
      "source": [
        "abe_anno_df = pd.DataFrame({\"annotator\": [\"abe\" for x in abe_annotations],\n",
        "                           \"input_hash\": [x[5] for x in abe_annotations],\n",
        "                           \"task_hash\": [x[6] for x in abe_annotations],\n",
        "                           #\"content\": [x[8] for x in abe_annotations],\n",
        "                           \"text\": [json.loads(x[8])['text'] for x in abe_annotations],\n",
        "                           \"annotation\":  [json.loads(x[8])['accept'] for x in abe_annotations]})"
      ],
      "metadata": {
        "id": "CKMLpleYyZj0"
      },
      "execution_count": 145,
      "outputs": []
    },
    {
      "cell_type": "code",
      "source": [
        "mengyuan_anno_df = pd.DataFrame({\"annotator\": [\"mengyuan\" for x in mengyuan_annotations],\n",
        "                           \"input_hash\": [x[5] for x in mengyuan_annotations],\n",
        "                           \"task_hash\": [x[6] for x in mengyuan_annotations],\n",
        "                           #\"content\": [x[8] for x in mengyuan_annotations],\n",
        "                           \"text\": [json.loads(x[8])['text'] for x in mengyuan_annotations],\n",
        "                           \"annotation\":  [json.loads(x[8])['accept'] for x in mengyuan_annotations]})"
      ],
      "metadata": {
        "id": "fr3_4x1ryalO"
      },
      "execution_count": 146,
      "outputs": []
    },
    {
      "cell_type": "code",
      "source": [
        "merged_df_all_label = pd.DataFrame({\n",
        "    \"sakthi_annotation\": sakthi_anno_df[\"annotation\"],\n",
        "    \"jenny_annotation\": jenny_anno_df[\"annotation\"],\n",
        "    \"abe_annotation\": abe_anno_df[\"annotation\"],\n",
        "    \"mengyuan_annotation\": mengyuan_anno_df[\"annotation\"]\n",
        "}).dropna()\n",
        "\n",
        "merged_df_all_label"
      ],
      "metadata": {
        "id": "LNWy-e1PrsJR",
        "outputId": "82bdcb8f-be3e-4a08-bd9f-cf6dee9f7398",
        "colab": {
          "base_uri": "https://localhost:8080/",
          "height": 424
        }
      },
      "execution_count": 147,
      "outputs": [
        {
          "output_type": "execute_result",
          "data": {
            "text/plain": [
              "    sakthi_annotation               jenny_annotation  \\\n",
              "0          [POSITIVE]                     [POSITIVE]   \n",
              "1        [SUGGESTION]         [SUGGESTION, NEGATIVE]   \n",
              "2          [POSITIVE]                     [POSITIVE]   \n",
              "3          [POSITIVE]                     [POSITIVE]   \n",
              "4          [POSITIVE]                     [POSITIVE]   \n",
              "..                ...                            ...   \n",
              "720        [POSITIVE]                     [POSITIVE]   \n",
              "721        [POSITIVE]                     [POSITIVE]   \n",
              "722      [SUGGESTION]  [MIXED, NEGATIVE, SUGGESTION]   \n",
              "723         [NEUTRAL]                   [SUGGESTION]   \n",
              "724         [NEUTRAL]                     [NEGATIVE]   \n",
              "\n",
              "                    abe_annotation mengyuan_annotation  \n",
              "0                       [POSITIVE]          [POSITIVE]  \n",
              "1              [MIXED, SUGGESTION]        [SUGGESTION]  \n",
              "2                       [POSITIVE]          [POSITIVE]  \n",
              "3                       [POSITIVE]          [POSITIVE]  \n",
              "4                       [POSITIVE]          [POSITIVE]  \n",
              "..                             ...                 ...  \n",
              "720                     [POSITIVE]          [POSITIVE]  \n",
              "721                     [POSITIVE]          [POSITIVE]  \n",
              "722  [NEGATIVE, SUGGESTION, MIXED]        [SUGGESTION]  \n",
              "723                   [SUGGESTION]          [POSITIVE]  \n",
              "724                     [NEGATIVE]          [NEGATIVE]  \n",
              "\n",
              "[725 rows x 4 columns]"
            ],
            "text/html": [
              "\n",
              "  <div id=\"df-d42b8a5e-a09a-4e27-b217-45d8e710db18\" class=\"colab-df-container\">\n",
              "    <div>\n",
              "<style scoped>\n",
              "    .dataframe tbody tr th:only-of-type {\n",
              "        vertical-align: middle;\n",
              "    }\n",
              "\n",
              "    .dataframe tbody tr th {\n",
              "        vertical-align: top;\n",
              "    }\n",
              "\n",
              "    .dataframe thead th {\n",
              "        text-align: right;\n",
              "    }\n",
              "</style>\n",
              "<table border=\"1\" class=\"dataframe\">\n",
              "  <thead>\n",
              "    <tr style=\"text-align: right;\">\n",
              "      <th></th>\n",
              "      <th>sakthi_annotation</th>\n",
              "      <th>jenny_annotation</th>\n",
              "      <th>abe_annotation</th>\n",
              "      <th>mengyuan_annotation</th>\n",
              "    </tr>\n",
              "  </thead>\n",
              "  <tbody>\n",
              "    <tr>\n",
              "      <th>0</th>\n",
              "      <td>[POSITIVE]</td>\n",
              "      <td>[POSITIVE]</td>\n",
              "      <td>[POSITIVE]</td>\n",
              "      <td>[POSITIVE]</td>\n",
              "    </tr>\n",
              "    <tr>\n",
              "      <th>1</th>\n",
              "      <td>[SUGGESTION]</td>\n",
              "      <td>[SUGGESTION, NEGATIVE]</td>\n",
              "      <td>[MIXED, SUGGESTION]</td>\n",
              "      <td>[SUGGESTION]</td>\n",
              "    </tr>\n",
              "    <tr>\n",
              "      <th>2</th>\n",
              "      <td>[POSITIVE]</td>\n",
              "      <td>[POSITIVE]</td>\n",
              "      <td>[POSITIVE]</td>\n",
              "      <td>[POSITIVE]</td>\n",
              "    </tr>\n",
              "    <tr>\n",
              "      <th>3</th>\n",
              "      <td>[POSITIVE]</td>\n",
              "      <td>[POSITIVE]</td>\n",
              "      <td>[POSITIVE]</td>\n",
              "      <td>[POSITIVE]</td>\n",
              "    </tr>\n",
              "    <tr>\n",
              "      <th>4</th>\n",
              "      <td>[POSITIVE]</td>\n",
              "      <td>[POSITIVE]</td>\n",
              "      <td>[POSITIVE]</td>\n",
              "      <td>[POSITIVE]</td>\n",
              "    </tr>\n",
              "    <tr>\n",
              "      <th>...</th>\n",
              "      <td>...</td>\n",
              "      <td>...</td>\n",
              "      <td>...</td>\n",
              "      <td>...</td>\n",
              "    </tr>\n",
              "    <tr>\n",
              "      <th>720</th>\n",
              "      <td>[POSITIVE]</td>\n",
              "      <td>[POSITIVE]</td>\n",
              "      <td>[POSITIVE]</td>\n",
              "      <td>[POSITIVE]</td>\n",
              "    </tr>\n",
              "    <tr>\n",
              "      <th>721</th>\n",
              "      <td>[POSITIVE]</td>\n",
              "      <td>[POSITIVE]</td>\n",
              "      <td>[POSITIVE]</td>\n",
              "      <td>[POSITIVE]</td>\n",
              "    </tr>\n",
              "    <tr>\n",
              "      <th>722</th>\n",
              "      <td>[SUGGESTION]</td>\n",
              "      <td>[MIXED, NEGATIVE, SUGGESTION]</td>\n",
              "      <td>[NEGATIVE, SUGGESTION, MIXED]</td>\n",
              "      <td>[SUGGESTION]</td>\n",
              "    </tr>\n",
              "    <tr>\n",
              "      <th>723</th>\n",
              "      <td>[NEUTRAL]</td>\n",
              "      <td>[SUGGESTION]</td>\n",
              "      <td>[SUGGESTION]</td>\n",
              "      <td>[POSITIVE]</td>\n",
              "    </tr>\n",
              "    <tr>\n",
              "      <th>724</th>\n",
              "      <td>[NEUTRAL]</td>\n",
              "      <td>[NEGATIVE]</td>\n",
              "      <td>[NEGATIVE]</td>\n",
              "      <td>[NEGATIVE]</td>\n",
              "    </tr>\n",
              "  </tbody>\n",
              "</table>\n",
              "<p>725 rows × 4 columns</p>\n",
              "</div>\n",
              "    <div class=\"colab-df-buttons\">\n",
              "\n",
              "  <div class=\"colab-df-container\">\n",
              "    <button class=\"colab-df-convert\" onclick=\"convertToInteractive('df-d42b8a5e-a09a-4e27-b217-45d8e710db18')\"\n",
              "            title=\"Convert this dataframe to an interactive table.\"\n",
              "            style=\"display:none;\">\n",
              "\n",
              "  <svg xmlns=\"http://www.w3.org/2000/svg\" height=\"24px\" viewBox=\"0 -960 960 960\">\n",
              "    <path d=\"M120-120v-720h720v720H120Zm60-500h600v-160H180v160Zm220 220h160v-160H400v160Zm0 220h160v-160H400v160ZM180-400h160v-160H180v160Zm440 0h160v-160H620v160ZM180-180h160v-160H180v160Zm440 0h160v-160H620v160Z\"/>\n",
              "  </svg>\n",
              "    </button>\n",
              "\n",
              "  <style>\n",
              "    .colab-df-container {\n",
              "      display:flex;\n",
              "      gap: 12px;\n",
              "    }\n",
              "\n",
              "    .colab-df-convert {\n",
              "      background-color: #E8F0FE;\n",
              "      border: none;\n",
              "      border-radius: 50%;\n",
              "      cursor: pointer;\n",
              "      display: none;\n",
              "      fill: #1967D2;\n",
              "      height: 32px;\n",
              "      padding: 0 0 0 0;\n",
              "      width: 32px;\n",
              "    }\n",
              "\n",
              "    .colab-df-convert:hover {\n",
              "      background-color: #E2EBFA;\n",
              "      box-shadow: 0px 1px 2px rgba(60, 64, 67, 0.3), 0px 1px 3px 1px rgba(60, 64, 67, 0.15);\n",
              "      fill: #174EA6;\n",
              "    }\n",
              "\n",
              "    .colab-df-buttons div {\n",
              "      margin-bottom: 4px;\n",
              "    }\n",
              "\n",
              "    [theme=dark] .colab-df-convert {\n",
              "      background-color: #3B4455;\n",
              "      fill: #D2E3FC;\n",
              "    }\n",
              "\n",
              "    [theme=dark] .colab-df-convert:hover {\n",
              "      background-color: #434B5C;\n",
              "      box-shadow: 0px 1px 3px 1px rgba(0, 0, 0, 0.15);\n",
              "      filter: drop-shadow(0px 1px 2px rgba(0, 0, 0, 0.3));\n",
              "      fill: #FFFFFF;\n",
              "    }\n",
              "  </style>\n",
              "\n",
              "    <script>\n",
              "      const buttonEl =\n",
              "        document.querySelector('#df-d42b8a5e-a09a-4e27-b217-45d8e710db18 button.colab-df-convert');\n",
              "      buttonEl.style.display =\n",
              "        google.colab.kernel.accessAllowed ? 'block' : 'none';\n",
              "\n",
              "      async function convertToInteractive(key) {\n",
              "        const element = document.querySelector('#df-d42b8a5e-a09a-4e27-b217-45d8e710db18');\n",
              "        const dataTable =\n",
              "          await google.colab.kernel.invokeFunction('convertToInteractive',\n",
              "                                                    [key], {});\n",
              "        if (!dataTable) return;\n",
              "\n",
              "        const docLinkHtml = 'Like what you see? Visit the ' +\n",
              "          '<a target=\"_blank\" href=https://colab.research.google.com/notebooks/data_table.ipynb>data table notebook</a>'\n",
              "          + ' to learn more about interactive tables.';\n",
              "        element.innerHTML = '';\n",
              "        dataTable['output_type'] = 'display_data';\n",
              "        await google.colab.output.renderOutput(dataTable, element);\n",
              "        const docLink = document.createElement('div');\n",
              "        docLink.innerHTML = docLinkHtml;\n",
              "        element.appendChild(docLink);\n",
              "      }\n",
              "    </script>\n",
              "  </div>\n",
              "\n",
              "\n",
              "<div id=\"df-db3b3159-4e57-400f-bcc8-13b6dd073584\">\n",
              "  <button class=\"colab-df-quickchart\" onclick=\"quickchart('df-db3b3159-4e57-400f-bcc8-13b6dd073584')\"\n",
              "            title=\"Suggest charts\"\n",
              "            style=\"display:none;\">\n",
              "\n",
              "<svg xmlns=\"http://www.w3.org/2000/svg\" height=\"24px\"viewBox=\"0 0 24 24\"\n",
              "     width=\"24px\">\n",
              "    <g>\n",
              "        <path d=\"M19 3H5c-1.1 0-2 .9-2 2v14c0 1.1.9 2 2 2h14c1.1 0 2-.9 2-2V5c0-1.1-.9-2-2-2zM9 17H7v-7h2v7zm4 0h-2V7h2v10zm4 0h-2v-4h2v4z\"/>\n",
              "    </g>\n",
              "</svg>\n",
              "  </button>\n",
              "\n",
              "<style>\n",
              "  .colab-df-quickchart {\n",
              "      --bg-color: #E8F0FE;\n",
              "      --fill-color: #1967D2;\n",
              "      --hover-bg-color: #E2EBFA;\n",
              "      --hover-fill-color: #174EA6;\n",
              "      --disabled-fill-color: #AAA;\n",
              "      --disabled-bg-color: #DDD;\n",
              "  }\n",
              "\n",
              "  [theme=dark] .colab-df-quickchart {\n",
              "      --bg-color: #3B4455;\n",
              "      --fill-color: #D2E3FC;\n",
              "      --hover-bg-color: #434B5C;\n",
              "      --hover-fill-color: #FFFFFF;\n",
              "      --disabled-bg-color: #3B4455;\n",
              "      --disabled-fill-color: #666;\n",
              "  }\n",
              "\n",
              "  .colab-df-quickchart {\n",
              "    background-color: var(--bg-color);\n",
              "    border: none;\n",
              "    border-radius: 50%;\n",
              "    cursor: pointer;\n",
              "    display: none;\n",
              "    fill: var(--fill-color);\n",
              "    height: 32px;\n",
              "    padding: 0;\n",
              "    width: 32px;\n",
              "  }\n",
              "\n",
              "  .colab-df-quickchart:hover {\n",
              "    background-color: var(--hover-bg-color);\n",
              "    box-shadow: 0 1px 2px rgba(60, 64, 67, 0.3), 0 1px 3px 1px rgba(60, 64, 67, 0.15);\n",
              "    fill: var(--button-hover-fill-color);\n",
              "  }\n",
              "\n",
              "  .colab-df-quickchart-complete:disabled,\n",
              "  .colab-df-quickchart-complete:disabled:hover {\n",
              "    background-color: var(--disabled-bg-color);\n",
              "    fill: var(--disabled-fill-color);\n",
              "    box-shadow: none;\n",
              "  }\n",
              "\n",
              "  .colab-df-spinner {\n",
              "    border: 2px solid var(--fill-color);\n",
              "    border-color: transparent;\n",
              "    border-bottom-color: var(--fill-color);\n",
              "    animation:\n",
              "      spin 1s steps(1) infinite;\n",
              "  }\n",
              "\n",
              "  @keyframes spin {\n",
              "    0% {\n",
              "      border-color: transparent;\n",
              "      border-bottom-color: var(--fill-color);\n",
              "      border-left-color: var(--fill-color);\n",
              "    }\n",
              "    20% {\n",
              "      border-color: transparent;\n",
              "      border-left-color: var(--fill-color);\n",
              "      border-top-color: var(--fill-color);\n",
              "    }\n",
              "    30% {\n",
              "      border-color: transparent;\n",
              "      border-left-color: var(--fill-color);\n",
              "      border-top-color: var(--fill-color);\n",
              "      border-right-color: var(--fill-color);\n",
              "    }\n",
              "    40% {\n",
              "      border-color: transparent;\n",
              "      border-right-color: var(--fill-color);\n",
              "      border-top-color: var(--fill-color);\n",
              "    }\n",
              "    60% {\n",
              "      border-color: transparent;\n",
              "      border-right-color: var(--fill-color);\n",
              "    }\n",
              "    80% {\n",
              "      border-color: transparent;\n",
              "      border-right-color: var(--fill-color);\n",
              "      border-bottom-color: var(--fill-color);\n",
              "    }\n",
              "    90% {\n",
              "      border-color: transparent;\n",
              "      border-bottom-color: var(--fill-color);\n",
              "    }\n",
              "  }\n",
              "</style>\n",
              "\n",
              "  <script>\n",
              "    async function quickchart(key) {\n",
              "      const quickchartButtonEl =\n",
              "        document.querySelector('#' + key + ' button');\n",
              "      quickchartButtonEl.disabled = true;  // To prevent multiple clicks.\n",
              "      quickchartButtonEl.classList.add('colab-df-spinner');\n",
              "      try {\n",
              "        const charts = await google.colab.kernel.invokeFunction(\n",
              "            'suggestCharts', [key], {});\n",
              "      } catch (error) {\n",
              "        console.error('Error during call to suggestCharts:', error);\n",
              "      }\n",
              "      quickchartButtonEl.classList.remove('colab-df-spinner');\n",
              "      quickchartButtonEl.classList.add('colab-df-quickchart-complete');\n",
              "    }\n",
              "    (() => {\n",
              "      let quickchartButtonEl =\n",
              "        document.querySelector('#df-db3b3159-4e57-400f-bcc8-13b6dd073584 button');\n",
              "      quickchartButtonEl.style.display =\n",
              "        google.colab.kernel.accessAllowed ? 'block' : 'none';\n",
              "    })();\n",
              "  </script>\n",
              "</div>\n",
              "\n",
              "  <div id=\"id_c516a2d8-dee1-4ca9-b978-351516d51d08\">\n",
              "    <style>\n",
              "      .colab-df-generate {\n",
              "        background-color: #E8F0FE;\n",
              "        border: none;\n",
              "        border-radius: 50%;\n",
              "        cursor: pointer;\n",
              "        display: none;\n",
              "        fill: #1967D2;\n",
              "        height: 32px;\n",
              "        padding: 0 0 0 0;\n",
              "        width: 32px;\n",
              "      }\n",
              "\n",
              "      .colab-df-generate:hover {\n",
              "        background-color: #E2EBFA;\n",
              "        box-shadow: 0px 1px 2px rgba(60, 64, 67, 0.3), 0px 1px 3px 1px rgba(60, 64, 67, 0.15);\n",
              "        fill: #174EA6;\n",
              "      }\n",
              "\n",
              "      [theme=dark] .colab-df-generate {\n",
              "        background-color: #3B4455;\n",
              "        fill: #D2E3FC;\n",
              "      }\n",
              "\n",
              "      [theme=dark] .colab-df-generate:hover {\n",
              "        background-color: #434B5C;\n",
              "        box-shadow: 0px 1px 3px 1px rgba(0, 0, 0, 0.15);\n",
              "        filter: drop-shadow(0px 1px 2px rgba(0, 0, 0, 0.3));\n",
              "        fill: #FFFFFF;\n",
              "      }\n",
              "    </style>\n",
              "    <button class=\"colab-df-generate\" onclick=\"generateWithVariable('merged_df_all_label')\"\n",
              "            title=\"Generate code using this dataframe.\"\n",
              "            style=\"display:none;\">\n",
              "\n",
              "  <svg xmlns=\"http://www.w3.org/2000/svg\" height=\"24px\"viewBox=\"0 0 24 24\"\n",
              "       width=\"24px\">\n",
              "    <path d=\"M7,19H8.4L18.45,9,17,7.55,7,17.6ZM5,21V16.75L18.45,3.32a2,2,0,0,1,2.83,0l1.4,1.43a1.91,1.91,0,0,1,.58,1.4,1.91,1.91,0,0,1-.58,1.4L9.25,21ZM18.45,9,17,7.55Zm-12,3A5.31,5.31,0,0,0,4.9,8.1,5.31,5.31,0,0,0,1,6.5,5.31,5.31,0,0,0,4.9,4.9,5.31,5.31,0,0,0,6.5,1,5.31,5.31,0,0,0,8.1,4.9,5.31,5.31,0,0,0,12,6.5,5.46,5.46,0,0,0,6.5,12Z\"/>\n",
              "  </svg>\n",
              "    </button>\n",
              "    <script>\n",
              "      (() => {\n",
              "      const buttonEl =\n",
              "        document.querySelector('#id_c516a2d8-dee1-4ca9-b978-351516d51d08 button.colab-df-generate');\n",
              "      buttonEl.style.display =\n",
              "        google.colab.kernel.accessAllowed ? 'block' : 'none';\n",
              "\n",
              "      buttonEl.onclick = () => {\n",
              "        google.colab.notebook.generateWithVariable('merged_df_all_label');\n",
              "      }\n",
              "      })();\n",
              "    </script>\n",
              "  </div>\n",
              "\n",
              "    </div>\n",
              "  </div>\n"
            ],
            "application/vnd.google.colaboratory.intrinsic+json": {
              "type": "dataframe",
              "variable_name": "merged_df_all_label",
              "summary": "{\n  \"name\": \"merged_df_all_label\",\n  \"rows\": 725,\n  \"fields\": [\n    {\n      \"column\": \"sakthi_annotation\",\n      \"properties\": {\n        \"dtype\": \"object\",\n        \"semantic_type\": \"\",\n        \"description\": \"\"\n      }\n    },\n    {\n      \"column\": \"jenny_annotation\",\n      \"properties\": {\n        \"dtype\": \"object\",\n        \"semantic_type\": \"\",\n        \"description\": \"\"\n      }\n    },\n    {\n      \"column\": \"abe_annotation\",\n      \"properties\": {\n        \"dtype\": \"object\",\n        \"semantic_type\": \"\",\n        \"description\": \"\"\n      }\n    },\n    {\n      \"column\": \"mengyuan_annotation\",\n      \"properties\": {\n        \"dtype\": \"object\",\n        \"semantic_type\": \"\",\n        \"description\": \"\"\n      }\n    }\n  ]\n}"
            }
          },
          "metadata": {},
          "execution_count": 147
        }
      ]
    },
    {
      "cell_type": "code",
      "source": [
        " # Drop rows with None values if any\n",
        "def map_labels(label):\n",
        "    if label == []:\n",
        "      print(\"found one\")\n",
        "      return ['UNSURE']\n",
        "    else:\n",
        "      return label\n",
        "merged_df_all_label = merged_df_all_label.map(map_labels)"
      ],
      "metadata": {
        "id": "wP6aWyvOzzpw",
        "outputId": "d7f6b1c9-bd30-42d1-9dae-afc8bf4aaa1f",
        "colab": {
          "base_uri": "https://localhost:8080/"
        }
      },
      "execution_count": 148,
      "outputs": [
        {
          "output_type": "stream",
          "name": "stdout",
          "text": [
            "found one\n"
          ]
        }
      ]
    },
    {
      "cell_type": "markdown",
      "source": [
        "Calculate the combinations among 6 labels. There is a fomula in math like 6C1 + 6C2 + ... 6C6 ="
      ],
      "metadata": {
        "id": "UDUcZjOxwARo"
      }
    },
    {
      "cell_type": "code",
      "source": [
        "import math\n",
        "total = 0\n",
        "for i in range(1,7):\n",
        "  # print(i)\n",
        "  total += math.comb(6, i)\n",
        "\n",
        "print(\"Total combinations: \", total)"
      ],
      "metadata": {
        "id": "RiQBVrkxwbJ8",
        "outputId": "587639f4-1116-44de-ceab-3dd99b3d98d3",
        "colab": {
          "base_uri": "https://localhost:8080/"
        }
      },
      "execution_count": 149,
      "outputs": [
        {
          "output_type": "stream",
          "name": "stdout",
          "text": [
            "Total combinations:  63\n"
          ]
        }
      ]
    },
    {
      "cell_type": "markdown",
      "source": [
        "Label set: All the possible combinations"
      ],
      "metadata": {
        "id": "vzIcG0xNrCx0"
      }
    },
    {
      "cell_type": "code",
      "source": [
        "import itertools\n",
        "\n",
        "all_choice = set()\n",
        "\n",
        "labels = ['MIXED', 'NEGATIVE', 'NEUTRAL', 'POSITIVE', 'UNSURE', 'SUGGESTION']\n",
        "for i in range(1,7):\n",
        "  for a in list(itertools.combinations(labels, i)):\n",
        "    a = list(a)\n",
        "    a.sort()\n",
        "    all_choice.add(str(a))\n",
        "\n",
        "all_choice"
      ],
      "metadata": {
        "id": "Fu1zwpQApP2Y",
        "outputId": "98f56ae2-b060-4fd0-d4a9-3fa3901e8440",
        "colab": {
          "base_uri": "https://localhost:8080/"
        }
      },
      "execution_count": 150,
      "outputs": [
        {
          "output_type": "execute_result",
          "data": {
            "text/plain": [
              "{\"['MIXED', 'NEGATIVE', 'NEUTRAL', 'POSITIVE', 'SUGGESTION', 'UNSURE']\",\n",
              " \"['MIXED', 'NEGATIVE', 'NEUTRAL', 'POSITIVE', 'SUGGESTION']\",\n",
              " \"['MIXED', 'NEGATIVE', 'NEUTRAL', 'POSITIVE', 'UNSURE']\",\n",
              " \"['MIXED', 'NEGATIVE', 'NEUTRAL', 'POSITIVE']\",\n",
              " \"['MIXED', 'NEGATIVE', 'NEUTRAL', 'SUGGESTION', 'UNSURE']\",\n",
              " \"['MIXED', 'NEGATIVE', 'NEUTRAL', 'SUGGESTION']\",\n",
              " \"['MIXED', 'NEGATIVE', 'NEUTRAL', 'UNSURE']\",\n",
              " \"['MIXED', 'NEGATIVE', 'NEUTRAL']\",\n",
              " \"['MIXED', 'NEGATIVE', 'POSITIVE', 'SUGGESTION', 'UNSURE']\",\n",
              " \"['MIXED', 'NEGATIVE', 'POSITIVE', 'SUGGESTION']\",\n",
              " \"['MIXED', 'NEGATIVE', 'POSITIVE', 'UNSURE']\",\n",
              " \"['MIXED', 'NEGATIVE', 'POSITIVE']\",\n",
              " \"['MIXED', 'NEGATIVE', 'SUGGESTION', 'UNSURE']\",\n",
              " \"['MIXED', 'NEGATIVE', 'SUGGESTION']\",\n",
              " \"['MIXED', 'NEGATIVE', 'UNSURE']\",\n",
              " \"['MIXED', 'NEGATIVE']\",\n",
              " \"['MIXED', 'NEUTRAL', 'POSITIVE', 'SUGGESTION', 'UNSURE']\",\n",
              " \"['MIXED', 'NEUTRAL', 'POSITIVE', 'SUGGESTION']\",\n",
              " \"['MIXED', 'NEUTRAL', 'POSITIVE', 'UNSURE']\",\n",
              " \"['MIXED', 'NEUTRAL', 'POSITIVE']\",\n",
              " \"['MIXED', 'NEUTRAL', 'SUGGESTION', 'UNSURE']\",\n",
              " \"['MIXED', 'NEUTRAL', 'SUGGESTION']\",\n",
              " \"['MIXED', 'NEUTRAL', 'UNSURE']\",\n",
              " \"['MIXED', 'NEUTRAL']\",\n",
              " \"['MIXED', 'POSITIVE', 'SUGGESTION', 'UNSURE']\",\n",
              " \"['MIXED', 'POSITIVE', 'SUGGESTION']\",\n",
              " \"['MIXED', 'POSITIVE', 'UNSURE']\",\n",
              " \"['MIXED', 'POSITIVE']\",\n",
              " \"['MIXED', 'SUGGESTION', 'UNSURE']\",\n",
              " \"['MIXED', 'SUGGESTION']\",\n",
              " \"['MIXED', 'UNSURE']\",\n",
              " \"['MIXED']\",\n",
              " \"['NEGATIVE', 'NEUTRAL', 'POSITIVE', 'SUGGESTION', 'UNSURE']\",\n",
              " \"['NEGATIVE', 'NEUTRAL', 'POSITIVE', 'SUGGESTION']\",\n",
              " \"['NEGATIVE', 'NEUTRAL', 'POSITIVE', 'UNSURE']\",\n",
              " \"['NEGATIVE', 'NEUTRAL', 'POSITIVE']\",\n",
              " \"['NEGATIVE', 'NEUTRAL', 'SUGGESTION', 'UNSURE']\",\n",
              " \"['NEGATIVE', 'NEUTRAL', 'SUGGESTION']\",\n",
              " \"['NEGATIVE', 'NEUTRAL', 'UNSURE']\",\n",
              " \"['NEGATIVE', 'NEUTRAL']\",\n",
              " \"['NEGATIVE', 'POSITIVE', 'SUGGESTION', 'UNSURE']\",\n",
              " \"['NEGATIVE', 'POSITIVE', 'SUGGESTION']\",\n",
              " \"['NEGATIVE', 'POSITIVE', 'UNSURE']\",\n",
              " \"['NEGATIVE', 'POSITIVE']\",\n",
              " \"['NEGATIVE', 'SUGGESTION', 'UNSURE']\",\n",
              " \"['NEGATIVE', 'SUGGESTION']\",\n",
              " \"['NEGATIVE', 'UNSURE']\",\n",
              " \"['NEGATIVE']\",\n",
              " \"['NEUTRAL', 'POSITIVE', 'SUGGESTION', 'UNSURE']\",\n",
              " \"['NEUTRAL', 'POSITIVE', 'SUGGESTION']\",\n",
              " \"['NEUTRAL', 'POSITIVE', 'UNSURE']\",\n",
              " \"['NEUTRAL', 'POSITIVE']\",\n",
              " \"['NEUTRAL', 'SUGGESTION', 'UNSURE']\",\n",
              " \"['NEUTRAL', 'SUGGESTION']\",\n",
              " \"['NEUTRAL', 'UNSURE']\",\n",
              " \"['NEUTRAL']\",\n",
              " \"['POSITIVE', 'SUGGESTION', 'UNSURE']\",\n",
              " \"['POSITIVE', 'SUGGESTION']\",\n",
              " \"['POSITIVE', 'UNSURE']\",\n",
              " \"['POSITIVE']\",\n",
              " \"['SUGGESTION', 'UNSURE']\",\n",
              " \"['SUGGESTION']\",\n",
              " \"['UNSURE']\"}"
            ]
          },
          "metadata": {},
          "execution_count": 150
        }
      ]
    },
    {
      "cell_type": "markdown",
      "source": [
        "label all the possible combinations"
      ],
      "metadata": {
        "id": "fpxYghhfrc2j"
      }
    },
    {
      "cell_type": "code",
      "source": [
        "mapdict = {}\n",
        "for index, choice in enumerate(list(all_choice)):\n",
        "  mapdict[choice]=index\n",
        "\n",
        "mapdict"
      ],
      "metadata": {
        "id": "SMKjU7ybpP4s",
        "outputId": "4e0083df-9950-4561-d24a-0be371516002",
        "colab": {
          "base_uri": "https://localhost:8080/"
        }
      },
      "execution_count": 151,
      "outputs": [
        {
          "output_type": "execute_result",
          "data": {
            "text/plain": [
              "{\"['NEGATIVE', 'NEUTRAL', 'SUGGESTION', 'UNSURE']\": 0,\n",
              " \"['NEUTRAL', 'POSITIVE', 'SUGGESTION', 'UNSURE']\": 1,\n",
              " \"['MIXED', 'NEUTRAL']\": 2,\n",
              " \"['UNSURE']\": 3,\n",
              " \"['NEGATIVE', 'NEUTRAL', 'POSITIVE', 'SUGGESTION']\": 4,\n",
              " \"['NEGATIVE', 'SUGGESTION']\": 5,\n",
              " \"['MIXED', 'NEGATIVE', 'NEUTRAL', 'POSITIVE', 'SUGGESTION', 'UNSURE']\": 6,\n",
              " \"['MIXED', 'POSITIVE', 'UNSURE']\": 7,\n",
              " \"['SUGGESTION', 'UNSURE']\": 8,\n",
              " \"['POSITIVE', 'UNSURE']\": 9,\n",
              " \"['MIXED', 'NEGATIVE', 'POSITIVE']\": 10,\n",
              " \"['MIXED', 'NEGATIVE', 'UNSURE']\": 11,\n",
              " \"['NEGATIVE', 'POSITIVE', 'UNSURE']\": 12,\n",
              " \"['MIXED', 'NEUTRAL', 'SUGGESTION']\": 13,\n",
              " \"['POSITIVE']\": 14,\n",
              " \"['MIXED']\": 15,\n",
              " \"['NEGATIVE', 'SUGGESTION', 'UNSURE']\": 16,\n",
              " \"['SUGGESTION']\": 17,\n",
              " \"['NEGATIVE', 'POSITIVE']\": 18,\n",
              " \"['MIXED', 'NEGATIVE', 'POSITIVE', 'SUGGESTION', 'UNSURE']\": 19,\n",
              " \"['NEUTRAL', 'POSITIVE', 'SUGGESTION']\": 20,\n",
              " \"['MIXED', 'POSITIVE', 'SUGGESTION']\": 21,\n",
              " \"['MIXED', 'NEUTRAL', 'POSITIVE']\": 22,\n",
              " \"['MIXED', 'NEGATIVE', 'NEUTRAL', 'POSITIVE', 'SUGGESTION']\": 23,\n",
              " \"['NEUTRAL', 'POSITIVE']\": 24,\n",
              " \"['NEUTRAL']\": 25,\n",
              " \"['NEGATIVE', 'NEUTRAL', 'SUGGESTION']\": 26,\n",
              " \"['NEGATIVE', 'UNSURE']\": 27,\n",
              " \"['MIXED', 'NEGATIVE', 'NEUTRAL', 'UNSURE']\": 28,\n",
              " \"['NEGATIVE', 'POSITIVE', 'SUGGESTION', 'UNSURE']\": 29,\n",
              " \"['MIXED', 'NEGATIVE', 'POSITIVE', 'SUGGESTION']\": 30,\n",
              " \"['MIXED', 'NEGATIVE', 'NEUTRAL']\": 31,\n",
              " \"['MIXED', 'NEUTRAL', 'POSITIVE', 'UNSURE']\": 32,\n",
              " \"['MIXED', 'NEUTRAL', 'SUGGESTION', 'UNSURE']\": 33,\n",
              " \"['MIXED', 'NEGATIVE']\": 34,\n",
              " \"['MIXED', 'NEUTRAL', 'UNSURE']\": 35,\n",
              " \"['NEGATIVE']\": 36,\n",
              " \"['MIXED', 'POSITIVE']\": 37,\n",
              " \"['NEGATIVE', 'NEUTRAL', 'UNSURE']\": 38,\n",
              " \"['MIXED', 'NEGATIVE', 'POSITIVE', 'UNSURE']\": 39,\n",
              " \"['MIXED', 'NEGATIVE', 'SUGGESTION', 'UNSURE']\": 40,\n",
              " \"['MIXED', 'NEUTRAL', 'POSITIVE', 'SUGGESTION']\": 41,\n",
              " \"['MIXED', 'NEGATIVE', 'NEUTRAL', 'SUGGESTION', 'UNSURE']\": 42,\n",
              " \"['POSITIVE', 'SUGGESTION']\": 43,\n",
              " \"['NEUTRAL', 'POSITIVE', 'UNSURE']\": 44,\n",
              " \"['NEGATIVE', 'NEUTRAL', 'POSITIVE', 'SUGGESTION', 'UNSURE']\": 45,\n",
              " \"['NEGATIVE', 'POSITIVE', 'SUGGESTION']\": 46,\n",
              " \"['NEUTRAL', 'UNSURE']\": 47,\n",
              " \"['NEGATIVE', 'NEUTRAL', 'POSITIVE']\": 48,\n",
              " \"['MIXED', 'SUGGESTION', 'UNSURE']\": 49,\n",
              " \"['MIXED', 'NEUTRAL', 'POSITIVE', 'SUGGESTION', 'UNSURE']\": 50,\n",
              " \"['MIXED', 'UNSURE']\": 51,\n",
              " \"['NEUTRAL', 'SUGGESTION']\": 52,\n",
              " \"['NEUTRAL', 'SUGGESTION', 'UNSURE']\": 53,\n",
              " \"['MIXED', 'POSITIVE', 'SUGGESTION', 'UNSURE']\": 54,\n",
              " \"['MIXED', 'NEGATIVE', 'NEUTRAL', 'POSITIVE', 'UNSURE']\": 55,\n",
              " \"['MIXED', 'SUGGESTION']\": 56,\n",
              " \"['MIXED', 'NEGATIVE', 'NEUTRAL', 'POSITIVE']\": 57,\n",
              " \"['POSITIVE', 'SUGGESTION', 'UNSURE']\": 58,\n",
              " \"['MIXED', 'NEGATIVE', 'NEUTRAL', 'SUGGESTION']\": 59,\n",
              " \"['NEGATIVE', 'NEUTRAL', 'POSITIVE', 'UNSURE']\": 60,\n",
              " \"['MIXED', 'NEGATIVE', 'SUGGESTION']\": 61,\n",
              " \"['NEGATIVE', 'NEUTRAL']\": 62}"
            ]
          },
          "metadata": {},
          "execution_count": 151
        }
      ]
    },
    {
      "cell_type": "code",
      "source": [
        "def map_labels(label):\n",
        "    label.sort()\n",
        "    label1 = mapdict.get(str(label), -1)\n",
        "    if label1 == -1:\n",
        "      print(label)\n",
        "    return label1\n",
        "df_numeric = merged_df_all_label.map(map_labels)"
      ],
      "metadata": {
        "id": "tbg6IZgKpP65"
      },
      "execution_count": 152,
      "outputs": []
    },
    {
      "cell_type": "code",
      "source": [
        "df_numeric"
      ],
      "metadata": {
        "id": "6gIQqUQPpP9J",
        "outputId": "5d9ce32e-958d-41cd-c12c-6419b4bc421d",
        "colab": {
          "base_uri": "https://localhost:8080/",
          "height": 424
        }
      },
      "execution_count": 153,
      "outputs": [
        {
          "output_type": "execute_result",
          "data": {
            "text/plain": [
              "     sakthi_annotation  jenny_annotation  abe_annotation  mengyuan_annotation\n",
              "0                   14                14              14                   14\n",
              "1                   17                 5              56                   17\n",
              "2                   14                14              14                   14\n",
              "3                   14                14              14                   14\n",
              "4                   14                14              14                   14\n",
              "..                 ...               ...             ...                  ...\n",
              "720                 14                14              14                   14\n",
              "721                 14                14              14                   14\n",
              "722                 17                61              61                   17\n",
              "723                 25                17              17                   14\n",
              "724                 25                36              36                   36\n",
              "\n",
              "[725 rows x 4 columns]"
            ],
            "text/html": [
              "\n",
              "  <div id=\"df-cc299d1e-6cac-41d0-9df0-eeea18859214\" class=\"colab-df-container\">\n",
              "    <div>\n",
              "<style scoped>\n",
              "    .dataframe tbody tr th:only-of-type {\n",
              "        vertical-align: middle;\n",
              "    }\n",
              "\n",
              "    .dataframe tbody tr th {\n",
              "        vertical-align: top;\n",
              "    }\n",
              "\n",
              "    .dataframe thead th {\n",
              "        text-align: right;\n",
              "    }\n",
              "</style>\n",
              "<table border=\"1\" class=\"dataframe\">\n",
              "  <thead>\n",
              "    <tr style=\"text-align: right;\">\n",
              "      <th></th>\n",
              "      <th>sakthi_annotation</th>\n",
              "      <th>jenny_annotation</th>\n",
              "      <th>abe_annotation</th>\n",
              "      <th>mengyuan_annotation</th>\n",
              "    </tr>\n",
              "  </thead>\n",
              "  <tbody>\n",
              "    <tr>\n",
              "      <th>0</th>\n",
              "      <td>14</td>\n",
              "      <td>14</td>\n",
              "      <td>14</td>\n",
              "      <td>14</td>\n",
              "    </tr>\n",
              "    <tr>\n",
              "      <th>1</th>\n",
              "      <td>17</td>\n",
              "      <td>5</td>\n",
              "      <td>56</td>\n",
              "      <td>17</td>\n",
              "    </tr>\n",
              "    <tr>\n",
              "      <th>2</th>\n",
              "      <td>14</td>\n",
              "      <td>14</td>\n",
              "      <td>14</td>\n",
              "      <td>14</td>\n",
              "    </tr>\n",
              "    <tr>\n",
              "      <th>3</th>\n",
              "      <td>14</td>\n",
              "      <td>14</td>\n",
              "      <td>14</td>\n",
              "      <td>14</td>\n",
              "    </tr>\n",
              "    <tr>\n",
              "      <th>4</th>\n",
              "      <td>14</td>\n",
              "      <td>14</td>\n",
              "      <td>14</td>\n",
              "      <td>14</td>\n",
              "    </tr>\n",
              "    <tr>\n",
              "      <th>...</th>\n",
              "      <td>...</td>\n",
              "      <td>...</td>\n",
              "      <td>...</td>\n",
              "      <td>...</td>\n",
              "    </tr>\n",
              "    <tr>\n",
              "      <th>720</th>\n",
              "      <td>14</td>\n",
              "      <td>14</td>\n",
              "      <td>14</td>\n",
              "      <td>14</td>\n",
              "    </tr>\n",
              "    <tr>\n",
              "      <th>721</th>\n",
              "      <td>14</td>\n",
              "      <td>14</td>\n",
              "      <td>14</td>\n",
              "      <td>14</td>\n",
              "    </tr>\n",
              "    <tr>\n",
              "      <th>722</th>\n",
              "      <td>17</td>\n",
              "      <td>61</td>\n",
              "      <td>61</td>\n",
              "      <td>17</td>\n",
              "    </tr>\n",
              "    <tr>\n",
              "      <th>723</th>\n",
              "      <td>25</td>\n",
              "      <td>17</td>\n",
              "      <td>17</td>\n",
              "      <td>14</td>\n",
              "    </tr>\n",
              "    <tr>\n",
              "      <th>724</th>\n",
              "      <td>25</td>\n",
              "      <td>36</td>\n",
              "      <td>36</td>\n",
              "      <td>36</td>\n",
              "    </tr>\n",
              "  </tbody>\n",
              "</table>\n",
              "<p>725 rows × 4 columns</p>\n",
              "</div>\n",
              "    <div class=\"colab-df-buttons\">\n",
              "\n",
              "  <div class=\"colab-df-container\">\n",
              "    <button class=\"colab-df-convert\" onclick=\"convertToInteractive('df-cc299d1e-6cac-41d0-9df0-eeea18859214')\"\n",
              "            title=\"Convert this dataframe to an interactive table.\"\n",
              "            style=\"display:none;\">\n",
              "\n",
              "  <svg xmlns=\"http://www.w3.org/2000/svg\" height=\"24px\" viewBox=\"0 -960 960 960\">\n",
              "    <path d=\"M120-120v-720h720v720H120Zm60-500h600v-160H180v160Zm220 220h160v-160H400v160Zm0 220h160v-160H400v160ZM180-400h160v-160H180v160Zm440 0h160v-160H620v160ZM180-180h160v-160H180v160Zm440 0h160v-160H620v160Z\"/>\n",
              "  </svg>\n",
              "    </button>\n",
              "\n",
              "  <style>\n",
              "    .colab-df-container {\n",
              "      display:flex;\n",
              "      gap: 12px;\n",
              "    }\n",
              "\n",
              "    .colab-df-convert {\n",
              "      background-color: #E8F0FE;\n",
              "      border: none;\n",
              "      border-radius: 50%;\n",
              "      cursor: pointer;\n",
              "      display: none;\n",
              "      fill: #1967D2;\n",
              "      height: 32px;\n",
              "      padding: 0 0 0 0;\n",
              "      width: 32px;\n",
              "    }\n",
              "\n",
              "    .colab-df-convert:hover {\n",
              "      background-color: #E2EBFA;\n",
              "      box-shadow: 0px 1px 2px rgba(60, 64, 67, 0.3), 0px 1px 3px 1px rgba(60, 64, 67, 0.15);\n",
              "      fill: #174EA6;\n",
              "    }\n",
              "\n",
              "    .colab-df-buttons div {\n",
              "      margin-bottom: 4px;\n",
              "    }\n",
              "\n",
              "    [theme=dark] .colab-df-convert {\n",
              "      background-color: #3B4455;\n",
              "      fill: #D2E3FC;\n",
              "    }\n",
              "\n",
              "    [theme=dark] .colab-df-convert:hover {\n",
              "      background-color: #434B5C;\n",
              "      box-shadow: 0px 1px 3px 1px rgba(0, 0, 0, 0.15);\n",
              "      filter: drop-shadow(0px 1px 2px rgba(0, 0, 0, 0.3));\n",
              "      fill: #FFFFFF;\n",
              "    }\n",
              "  </style>\n",
              "\n",
              "    <script>\n",
              "      const buttonEl =\n",
              "        document.querySelector('#df-cc299d1e-6cac-41d0-9df0-eeea18859214 button.colab-df-convert');\n",
              "      buttonEl.style.display =\n",
              "        google.colab.kernel.accessAllowed ? 'block' : 'none';\n",
              "\n",
              "      async function convertToInteractive(key) {\n",
              "        const element = document.querySelector('#df-cc299d1e-6cac-41d0-9df0-eeea18859214');\n",
              "        const dataTable =\n",
              "          await google.colab.kernel.invokeFunction('convertToInteractive',\n",
              "                                                    [key], {});\n",
              "        if (!dataTable) return;\n",
              "\n",
              "        const docLinkHtml = 'Like what you see? Visit the ' +\n",
              "          '<a target=\"_blank\" href=https://colab.research.google.com/notebooks/data_table.ipynb>data table notebook</a>'\n",
              "          + ' to learn more about interactive tables.';\n",
              "        element.innerHTML = '';\n",
              "        dataTable['output_type'] = 'display_data';\n",
              "        await google.colab.output.renderOutput(dataTable, element);\n",
              "        const docLink = document.createElement('div');\n",
              "        docLink.innerHTML = docLinkHtml;\n",
              "        element.appendChild(docLink);\n",
              "      }\n",
              "    </script>\n",
              "  </div>\n",
              "\n",
              "\n",
              "<div id=\"df-5fde4681-9e2a-4db5-9fde-8dd361552629\">\n",
              "  <button class=\"colab-df-quickchart\" onclick=\"quickchart('df-5fde4681-9e2a-4db5-9fde-8dd361552629')\"\n",
              "            title=\"Suggest charts\"\n",
              "            style=\"display:none;\">\n",
              "\n",
              "<svg xmlns=\"http://www.w3.org/2000/svg\" height=\"24px\"viewBox=\"0 0 24 24\"\n",
              "     width=\"24px\">\n",
              "    <g>\n",
              "        <path d=\"M19 3H5c-1.1 0-2 .9-2 2v14c0 1.1.9 2 2 2h14c1.1 0 2-.9 2-2V5c0-1.1-.9-2-2-2zM9 17H7v-7h2v7zm4 0h-2V7h2v10zm4 0h-2v-4h2v4z\"/>\n",
              "    </g>\n",
              "</svg>\n",
              "  </button>\n",
              "\n",
              "<style>\n",
              "  .colab-df-quickchart {\n",
              "      --bg-color: #E8F0FE;\n",
              "      --fill-color: #1967D2;\n",
              "      --hover-bg-color: #E2EBFA;\n",
              "      --hover-fill-color: #174EA6;\n",
              "      --disabled-fill-color: #AAA;\n",
              "      --disabled-bg-color: #DDD;\n",
              "  }\n",
              "\n",
              "  [theme=dark] .colab-df-quickchart {\n",
              "      --bg-color: #3B4455;\n",
              "      --fill-color: #D2E3FC;\n",
              "      --hover-bg-color: #434B5C;\n",
              "      --hover-fill-color: #FFFFFF;\n",
              "      --disabled-bg-color: #3B4455;\n",
              "      --disabled-fill-color: #666;\n",
              "  }\n",
              "\n",
              "  .colab-df-quickchart {\n",
              "    background-color: var(--bg-color);\n",
              "    border: none;\n",
              "    border-radius: 50%;\n",
              "    cursor: pointer;\n",
              "    display: none;\n",
              "    fill: var(--fill-color);\n",
              "    height: 32px;\n",
              "    padding: 0;\n",
              "    width: 32px;\n",
              "  }\n",
              "\n",
              "  .colab-df-quickchart:hover {\n",
              "    background-color: var(--hover-bg-color);\n",
              "    box-shadow: 0 1px 2px rgba(60, 64, 67, 0.3), 0 1px 3px 1px rgba(60, 64, 67, 0.15);\n",
              "    fill: var(--button-hover-fill-color);\n",
              "  }\n",
              "\n",
              "  .colab-df-quickchart-complete:disabled,\n",
              "  .colab-df-quickchart-complete:disabled:hover {\n",
              "    background-color: var(--disabled-bg-color);\n",
              "    fill: var(--disabled-fill-color);\n",
              "    box-shadow: none;\n",
              "  }\n",
              "\n",
              "  .colab-df-spinner {\n",
              "    border: 2px solid var(--fill-color);\n",
              "    border-color: transparent;\n",
              "    border-bottom-color: var(--fill-color);\n",
              "    animation:\n",
              "      spin 1s steps(1) infinite;\n",
              "  }\n",
              "\n",
              "  @keyframes spin {\n",
              "    0% {\n",
              "      border-color: transparent;\n",
              "      border-bottom-color: var(--fill-color);\n",
              "      border-left-color: var(--fill-color);\n",
              "    }\n",
              "    20% {\n",
              "      border-color: transparent;\n",
              "      border-left-color: var(--fill-color);\n",
              "      border-top-color: var(--fill-color);\n",
              "    }\n",
              "    30% {\n",
              "      border-color: transparent;\n",
              "      border-left-color: var(--fill-color);\n",
              "      border-top-color: var(--fill-color);\n",
              "      border-right-color: var(--fill-color);\n",
              "    }\n",
              "    40% {\n",
              "      border-color: transparent;\n",
              "      border-right-color: var(--fill-color);\n",
              "      border-top-color: var(--fill-color);\n",
              "    }\n",
              "    60% {\n",
              "      border-color: transparent;\n",
              "      border-right-color: var(--fill-color);\n",
              "    }\n",
              "    80% {\n",
              "      border-color: transparent;\n",
              "      border-right-color: var(--fill-color);\n",
              "      border-bottom-color: var(--fill-color);\n",
              "    }\n",
              "    90% {\n",
              "      border-color: transparent;\n",
              "      border-bottom-color: var(--fill-color);\n",
              "    }\n",
              "  }\n",
              "</style>\n",
              "\n",
              "  <script>\n",
              "    async function quickchart(key) {\n",
              "      const quickchartButtonEl =\n",
              "        document.querySelector('#' + key + ' button');\n",
              "      quickchartButtonEl.disabled = true;  // To prevent multiple clicks.\n",
              "      quickchartButtonEl.classList.add('colab-df-spinner');\n",
              "      try {\n",
              "        const charts = await google.colab.kernel.invokeFunction(\n",
              "            'suggestCharts', [key], {});\n",
              "      } catch (error) {\n",
              "        console.error('Error during call to suggestCharts:', error);\n",
              "      }\n",
              "      quickchartButtonEl.classList.remove('colab-df-spinner');\n",
              "      quickchartButtonEl.classList.add('colab-df-quickchart-complete');\n",
              "    }\n",
              "    (() => {\n",
              "      let quickchartButtonEl =\n",
              "        document.querySelector('#df-5fde4681-9e2a-4db5-9fde-8dd361552629 button');\n",
              "      quickchartButtonEl.style.display =\n",
              "        google.colab.kernel.accessAllowed ? 'block' : 'none';\n",
              "    })();\n",
              "  </script>\n",
              "</div>\n",
              "\n",
              "  <div id=\"id_2534b97e-bf6a-498e-b549-8bd264661d55\">\n",
              "    <style>\n",
              "      .colab-df-generate {\n",
              "        background-color: #E8F0FE;\n",
              "        border: none;\n",
              "        border-radius: 50%;\n",
              "        cursor: pointer;\n",
              "        display: none;\n",
              "        fill: #1967D2;\n",
              "        height: 32px;\n",
              "        padding: 0 0 0 0;\n",
              "        width: 32px;\n",
              "      }\n",
              "\n",
              "      .colab-df-generate:hover {\n",
              "        background-color: #E2EBFA;\n",
              "        box-shadow: 0px 1px 2px rgba(60, 64, 67, 0.3), 0px 1px 3px 1px rgba(60, 64, 67, 0.15);\n",
              "        fill: #174EA6;\n",
              "      }\n",
              "\n",
              "      [theme=dark] .colab-df-generate {\n",
              "        background-color: #3B4455;\n",
              "        fill: #D2E3FC;\n",
              "      }\n",
              "\n",
              "      [theme=dark] .colab-df-generate:hover {\n",
              "        background-color: #434B5C;\n",
              "        box-shadow: 0px 1px 3px 1px rgba(0, 0, 0, 0.15);\n",
              "        filter: drop-shadow(0px 1px 2px rgba(0, 0, 0, 0.3));\n",
              "        fill: #FFFFFF;\n",
              "      }\n",
              "    </style>\n",
              "    <button class=\"colab-df-generate\" onclick=\"generateWithVariable('df_numeric')\"\n",
              "            title=\"Generate code using this dataframe.\"\n",
              "            style=\"display:none;\">\n",
              "\n",
              "  <svg xmlns=\"http://www.w3.org/2000/svg\" height=\"24px\"viewBox=\"0 0 24 24\"\n",
              "       width=\"24px\">\n",
              "    <path d=\"M7,19H8.4L18.45,9,17,7.55,7,17.6ZM5,21V16.75L18.45,3.32a2,2,0,0,1,2.83,0l1.4,1.43a1.91,1.91,0,0,1,.58,1.4,1.91,1.91,0,0,1-.58,1.4L9.25,21ZM18.45,9,17,7.55Zm-12,3A5.31,5.31,0,0,0,4.9,8.1,5.31,5.31,0,0,0,1,6.5,5.31,5.31,0,0,0,4.9,4.9,5.31,5.31,0,0,0,6.5,1,5.31,5.31,0,0,0,8.1,4.9,5.31,5.31,0,0,0,12,6.5,5.46,5.46,0,0,0,6.5,12Z\"/>\n",
              "  </svg>\n",
              "    </button>\n",
              "    <script>\n",
              "      (() => {\n",
              "      const buttonEl =\n",
              "        document.querySelector('#id_2534b97e-bf6a-498e-b549-8bd264661d55 button.colab-df-generate');\n",
              "      buttonEl.style.display =\n",
              "        google.colab.kernel.accessAllowed ? 'block' : 'none';\n",
              "\n",
              "      buttonEl.onclick = () => {\n",
              "        google.colab.notebook.generateWithVariable('df_numeric');\n",
              "      }\n",
              "      })();\n",
              "    </script>\n",
              "  </div>\n",
              "\n",
              "    </div>\n",
              "  </div>\n"
            ],
            "application/vnd.google.colaboratory.intrinsic+json": {
              "type": "dataframe",
              "variable_name": "df_numeric",
              "summary": "{\n  \"name\": \"df_numeric\",\n  \"rows\": 725,\n  \"fields\": [\n    {\n      \"column\": \"sakthi_annotation\",\n      \"properties\": {\n        \"dtype\": \"number\",\n        \"std\": 8,\n        \"min\": 3,\n        \"max\": 61,\n        \"num_unique_values\": 15,\n        \"samples\": [\n          47,\n          57,\n          14\n        ],\n        \"semantic_type\": \"\",\n        \"description\": \"\"\n      }\n    },\n    {\n      \"column\": \"jenny_annotation\",\n      \"properties\": {\n        \"dtype\": \"number\",\n        \"std\": 10,\n        \"min\": 3,\n        \"max\": 61,\n        \"num_unique_values\": 18,\n        \"samples\": [\n          14,\n          5,\n          27\n        ],\n        \"semantic_type\": \"\",\n        \"description\": \"\"\n      }\n    },\n    {\n      \"column\": \"abe_annotation\",\n      \"properties\": {\n        \"dtype\": \"number\",\n        \"std\": 11,\n        \"min\": 3,\n        \"max\": 61,\n        \"num_unique_values\": 31,\n        \"samples\": [\n          46,\n          21,\n          30\n        ],\n        \"semantic_type\": \"\",\n        \"description\": \"\"\n      }\n    },\n    {\n      \"column\": \"mengyuan_annotation\",\n      \"properties\": {\n        \"dtype\": \"number\",\n        \"std\": 11,\n        \"min\": 3,\n        \"max\": 56,\n        \"num_unique_values\": 15,\n        \"samples\": [\n          43,\n          47,\n          14\n        ],\n        \"semantic_type\": \"\",\n        \"description\": \"\"\n      }\n    }\n  ]\n}"
            }
          },
          "metadata": {},
          "execution_count": 153
        }
      ]
    },
    {
      "cell_type": "code",
      "source": [
        "n_categories = len(mapdict)\n",
        "counts = np.zeros((len(df_numeric), n_categories))\n",
        "\n",
        "for i in range(len(df_numeric)):\n",
        "    counts[i] = np.bincount(df_numeric.iloc[i], minlength=n_categories)\n",
        "\n",
        "print(counts)\n",
        "print(len(counts), len(counts[0]))\n",
        "\n",
        "print(counts[0])"
      ],
      "metadata": {
        "id": "usYssnReuga3",
        "outputId": "e95bc49a-800a-4e1f-b34f-e206b5e4dd79",
        "colab": {
          "base_uri": "https://localhost:8080/"
        }
      },
      "execution_count": 154,
      "outputs": [
        {
          "output_type": "stream",
          "name": "stdout",
          "text": [
            "[[0. 0. 0. ... 0. 0. 0.]\n",
            " [0. 0. 0. ... 0. 0. 0.]\n",
            " [0. 0. 0. ... 0. 0. 0.]\n",
            " ...\n",
            " [0. 0. 0. ... 0. 2. 0.]\n",
            " [0. 0. 0. ... 0. 0. 0.]\n",
            " [0. 0. 0. ... 0. 0. 0.]]\n",
            "725 63\n",
            "[0. 0. 0. 0. 0. 0. 0. 0. 0. 0. 0. 0. 0. 0. 4. 0. 0. 0. 0. 0. 0. 0. 0. 0.\n",
            " 0. 0. 0. 0. 0. 0. 0. 0. 0. 0. 0. 0. 0. 0. 0. 0. 0. 0. 0. 0. 0. 0. 0. 0.\n",
            " 0. 0. 0. 0. 0. 0. 0. 0. 0. 0. 0. 0. 0. 0. 0.]\n"
          ]
        }
      ]
    },
    {
      "cell_type": "code",
      "source": [
        "from statsmodels.stats.inter_rater import fleiss_kappa\n",
        "\n",
        "kappa = fleiss_kappa(counts)\n",
        "print(f'Fleiss\\' kappa for the all labels: {kappa}')"
      ],
      "metadata": {
        "id": "T-FrybWnugc8",
        "outputId": "0c873674-1b72-44bb-b692-b38113559eba",
        "colab": {
          "base_uri": "https://localhost:8080/"
        }
      },
      "execution_count": 155,
      "outputs": [
        {
          "output_type": "stream",
          "name": "stdout",
          "text": [
            "Fleiss' kappa for the all labels: 0.6080284262742994\n"
          ]
        }
      ]
    },
    {
      "cell_type": "code",
      "source": [],
      "metadata": {
        "id": "zVXCoS1gugfM"
      },
      "execution_count": 155,
      "outputs": []
    },
    {
      "cell_type": "code",
      "source": [],
      "metadata": {
        "id": "eeAZmIHhughY"
      },
      "execution_count": 155,
      "outputs": []
    },
    {
      "cell_type": "code",
      "source": [],
      "metadata": {
        "id": "KaMz6potugjn"
      },
      "execution_count": 155,
      "outputs": []
    },
    {
      "cell_type": "code",
      "source": [],
      "metadata": {
        "id": "8zdcwSMGkuMK"
      },
      "execution_count": 155,
      "outputs": []
    },
    {
      "cell_type": "code",
      "source": [],
      "metadata": {
        "id": "f6NDhRfQkuOr"
      },
      "execution_count": 155,
      "outputs": []
    },
    {
      "cell_type": "code",
      "source": [],
      "metadata": {
        "id": "mkFhwiwWkuRO"
      },
      "execution_count": 155,
      "outputs": []
    },
    {
      "cell_type": "code",
      "source": [],
      "metadata": {
        "id": "dYYb45zkkuT2"
      },
      "execution_count": 155,
      "outputs": []
    },
    {
      "cell_type": "code",
      "source": [],
      "metadata": {
        "id": "3AiMRwzkkuWO"
      },
      "execution_count": 155,
      "outputs": []
    },
    {
      "cell_type": "code",
      "source": [],
      "metadata": {
        "id": "SwjaZNINkuY0"
      },
      "execution_count": 155,
      "outputs": []
    },
    {
      "cell_type": "code",
      "source": [],
      "metadata": {
        "id": "zpDZwylakubF"
      },
      "execution_count": 155,
      "outputs": []
    },
    {
      "cell_type": "code",
      "source": [],
      "metadata": {
        "id": "JthEyeJMkude"
      },
      "execution_count": 155,
      "outputs": []
    },
    {
      "cell_type": "code",
      "source": [],
      "metadata": {
        "id": "VBnqobv0kugH"
      },
      "execution_count": 155,
      "outputs": []
    },
    {
      "cell_type": "code",
      "source": [],
      "metadata": {
        "id": "u7BQP8YAkuir"
      },
      "execution_count": 155,
      "outputs": []
    },
    {
      "cell_type": "code",
      "source": [],
      "metadata": {
        "id": "iiH4US7xh1YA"
      },
      "execution_count": 155,
      "outputs": []
    },
    {
      "cell_type": "code",
      "source": [],
      "metadata": {
        "id": "DfJbTVrZy_iz"
      },
      "execution_count": 155,
      "outputs": []
    }
  ]
}